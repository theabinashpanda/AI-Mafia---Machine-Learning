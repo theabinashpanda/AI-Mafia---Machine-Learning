{
 "cells": [
  {
   "cell_type": "code",
   "execution_count": 32,
   "metadata": {},
   "outputs": [],
   "source": [
    "import numpy as np\n",
    "import pandas as pd\n",
    "import matplotlib.pyplot as plt"
   ]
  },
  {
   "cell_type": "code",
   "execution_count": 33,
   "metadata": {},
   "outputs": [],
   "source": [
    "df=pd.read_csv(\"D:\\programs\\Machine Learning\\Linear Regression\\Assignment 2-20211111T034843Z-001\\Assignment 2\\Training Data\\Train.csv\")\n",
    "arr = np.ones((df.shape[0],))"
   ]
  },
  {
   "cell_type": "code",
   "execution_count": 34,
   "metadata": {},
   "outputs": [
    {
     "data": {
      "text/html": [
       "<div>\n",
       "<style scoped>\n",
       "    .dataframe tbody tr th:only-of-type {\n",
       "        vertical-align: middle;\n",
       "    }\n",
       "\n",
       "    .dataframe tbody tr th {\n",
       "        vertical-align: top;\n",
       "    }\n",
       "\n",
       "    .dataframe thead th {\n",
       "        text-align: right;\n",
       "    }\n",
       "</style>\n",
       "<table border=\"1\" class=\"dataframe\">\n",
       "  <thead>\n",
       "    <tr style=\"text-align: right;\">\n",
       "      <th></th>\n",
       "      <th>feature_1</th>\n",
       "      <th>feature_2</th>\n",
       "      <th>feature_3</th>\n",
       "      <th>feature_4</th>\n",
       "      <th>feature_5</th>\n",
       "      <th>target</th>\n",
       "    </tr>\n",
       "  </thead>\n",
       "  <tbody>\n",
       "    <tr>\n",
       "      <th>0</th>\n",
       "      <td>0.293416</td>\n",
       "      <td>-0.945599</td>\n",
       "      <td>-0.421105</td>\n",
       "      <td>0.406816</td>\n",
       "      <td>0.525662</td>\n",
       "      <td>-82.154667</td>\n",
       "    </tr>\n",
       "    <tr>\n",
       "      <th>1</th>\n",
       "      <td>-0.836084</td>\n",
       "      <td>-0.189228</td>\n",
       "      <td>-0.776403</td>\n",
       "      <td>-1.053831</td>\n",
       "      <td>0.597997</td>\n",
       "      <td>-48.897960</td>\n",
       "    </tr>\n",
       "    <tr>\n",
       "      <th>2</th>\n",
       "      <td>0.236425</td>\n",
       "      <td>0.132836</td>\n",
       "      <td>-0.147723</td>\n",
       "      <td>0.699854</td>\n",
       "      <td>-0.187364</td>\n",
       "      <td>77.270371</td>\n",
       "    </tr>\n",
       "    <tr>\n",
       "      <th>3</th>\n",
       "      <td>0.175312</td>\n",
       "      <td>0.143194</td>\n",
       "      <td>-0.581111</td>\n",
       "      <td>-0.122107</td>\n",
       "      <td>-1.292168</td>\n",
       "      <td>-2.988581</td>\n",
       "    </tr>\n",
       "    <tr>\n",
       "      <th>4</th>\n",
       "      <td>-1.693011</td>\n",
       "      <td>0.542712</td>\n",
       "      <td>-2.798729</td>\n",
       "      <td>-0.686723</td>\n",
       "      <td>1.244077</td>\n",
       "      <td>-37.596722</td>\n",
       "    </tr>\n",
       "    <tr>\n",
       "      <th>...</th>\n",
       "      <td>...</td>\n",
       "      <td>...</td>\n",
       "      <td>...</td>\n",
       "      <td>...</td>\n",
       "      <td>...</td>\n",
       "      <td>...</td>\n",
       "    </tr>\n",
       "    <tr>\n",
       "      <th>1595</th>\n",
       "      <td>-0.274961</td>\n",
       "      <td>-0.820634</td>\n",
       "      <td>-0.757173</td>\n",
       "      <td>-0.147555</td>\n",
       "      <td>-0.307149</td>\n",
       "      <td>-80.110012</td>\n",
       "    </tr>\n",
       "    <tr>\n",
       "      <th>1596</th>\n",
       "      <td>-0.076099</td>\n",
       "      <td>0.255257</td>\n",
       "      <td>0.290054</td>\n",
       "      <td>1.796036</td>\n",
       "      <td>0.340350</td>\n",
       "      <td>118.315601</td>\n",
       "    </tr>\n",
       "    <tr>\n",
       "      <th>1597</th>\n",
       "      <td>1.044177</td>\n",
       "      <td>-0.899206</td>\n",
       "      <td>1.730399</td>\n",
       "      <td>-1.871057</td>\n",
       "      <td>0.442520</td>\n",
       "      <td>-107.510508</td>\n",
       "    </tr>\n",
       "    <tr>\n",
       "      <th>1598</th>\n",
       "      <td>-1.269173</td>\n",
       "      <td>-0.005052</td>\n",
       "      <td>1.857669</td>\n",
       "      <td>-1.080365</td>\n",
       "      <td>0.736334</td>\n",
       "      <td>-47.341558</td>\n",
       "    </tr>\n",
       "    <tr>\n",
       "      <th>1599</th>\n",
       "      <td>-1.884000</td>\n",
       "      <td>-0.849427</td>\n",
       "      <td>-1.452270</td>\n",
       "      <td>0.488613</td>\n",
       "      <td>1.459576</td>\n",
       "      <td>-115.939003</td>\n",
       "    </tr>\n",
       "  </tbody>\n",
       "</table>\n",
       "<p>1600 rows × 6 columns</p>\n",
       "</div>"
      ],
      "text/plain": [
       "      feature_1  feature_2  feature_3  feature_4  feature_5      target\n",
       "0      0.293416  -0.945599  -0.421105   0.406816   0.525662  -82.154667\n",
       "1     -0.836084  -0.189228  -0.776403  -1.053831   0.597997  -48.897960\n",
       "2      0.236425   0.132836  -0.147723   0.699854  -0.187364   77.270371\n",
       "3      0.175312   0.143194  -0.581111  -0.122107  -1.292168   -2.988581\n",
       "4     -1.693011   0.542712  -2.798729  -0.686723   1.244077  -37.596722\n",
       "...         ...        ...        ...        ...        ...         ...\n",
       "1595  -0.274961  -0.820634  -0.757173  -0.147555  -0.307149  -80.110012\n",
       "1596  -0.076099   0.255257   0.290054   1.796036   0.340350  118.315601\n",
       "1597   1.044177  -0.899206   1.730399  -1.871057   0.442520 -107.510508\n",
       "1598  -1.269173  -0.005052   1.857669  -1.080365   0.736334  -47.341558\n",
       "1599  -1.884000  -0.849427  -1.452270   0.488613   1.459576 -115.939003\n",
       "\n",
       "[1600 rows x 6 columns]"
      ]
     },
     "execution_count": 34,
     "metadata": {},
     "output_type": "execute_result"
    }
   ],
   "source": [
    "df"
   ]
  },
  {
   "cell_type": "code",
   "execution_count": 35,
   "metadata": {},
   "outputs": [
    {
     "data": {
      "text/plain": [
       "array([[ 1.        ,  0.29341624, -0.94559871, -0.42110515,  0.40681602,\n",
       "         0.52566183],\n",
       "       [ 1.        , -0.83608408, -0.18922804, -0.77640262, -1.05383124,\n",
       "         0.59799685],\n",
       "       [ 1.        ,  0.23642511,  0.13283602, -0.14772298,  0.69985396,\n",
       "        -0.18736416],\n",
       "       ...,\n",
       "       [ 1.        ,  1.04417694, -0.89920649,  1.73039905, -1.87105676,\n",
       "         0.44251965],\n",
       "       [ 1.        , -1.2691729 , -0.00505216,  1.85766873, -1.08036482,\n",
       "         0.73633394],\n",
       "       [ 1.        , -1.88400025, -0.84942743, -1.45227035,  0.48861308,\n",
       "         1.4595758 ]])"
      ]
     },
     "execution_count": 35,
     "metadata": {},
     "output_type": "execute_result"
    }
   ],
   "source": [
    "x = np.c_[arr, df['feature_1'], df['feature_2'], df['feature_3'],  df['feature_4'], df['feature_5']]\n",
    "x"
   ]
  },
  {
   "cell_type": "code",
   "execution_count": 36,
   "metadata": {},
   "outputs": [],
   "source": [
    "y = df['target'].values\n",
    "y = y.reshape((-1,)) #target "
   ]
  },
  {
   "cell_type": "code",
   "execution_count": 37,
   "metadata": {},
   "outputs": [],
   "source": [
    "def hypothesis(x,theta):\n",
    "    return np.dot(x,theta)"
   ]
  },
  {
   "cell_type": "code",
   "execution_count": 38,
   "metadata": {},
   "outputs": [],
   "source": [
    "def error(x,theta,y):\n",
    "    err = 0.0\n",
    "    m = x.shape[0]\n",
    "    \n",
    "    for i in range(m):\n",
    "        hx = hypothesis(x[i],theta)\n",
    "        err += (hx-y[i])**2\n",
    "        \n",
    "    return err"
   ]
  },
  {
   "cell_type": "code",
   "execution_count": 39,
   "metadata": {},
   "outputs": [],
   "source": [
    "def gradient(x,theta,y):\n",
    "    m = x.shape[0]\n",
    "    grad = np.zeros((theta.shape))\n",
    "    for i in range(m):\n",
    "        hx = hypothesis(x[i],theta)\n",
    "        grad += (hx - y[i])*x[i]\n",
    "    return grad/m"
   ]
  },
  {
   "cell_type": "code",
   "execution_count": 40,
   "metadata": {},
   "outputs": [],
   "source": [
    "def gradientDescent(x,y,learning_rate = 0.01):\n",
    "    theta = np.zeros((x.shape[1],))\n",
    "    err_list = []\n",
    "    theta_list = []\n",
    "    for i in range(1000):\n",
    "        grad = gradient(x,theta,y)\n",
    "        err = error(x,theta,y)\n",
    "        err_list.append(err)\n",
    "        theta_list.append(theta)\n",
    "        theta -= (learning_rate*(grad))\n",
    "    return theta,err_list,theta_list"
   ]
  },
  {
   "cell_type": "code",
   "execution_count": 41,
   "metadata": {},
   "outputs": [],
   "source": [
    "final_theta, error_list,theta_list = gradientDescent(x,y)"
   ]
  },
  {
   "cell_type": "code",
   "execution_count": 42,
   "metadata": {},
   "outputs": [
    {
     "data": {
      "text/plain": [
       "[<matplotlib.lines.Line2D at 0x2922c737fd0>]"
      ]
     },
     "execution_count": 42,
     "metadata": {},
     "output_type": "execute_result"
    },
    {
     "data": {
      "image/png": "[encoded data removed]",
      "text/plain": [
       "<Figure size 432x288 with 1 Axes>"
      ]
     },
     "metadata": {
      "needs_background": "light"
     },
     "output_type": "display_data"
    }
   ],
   "source": [
    "plt.plot(error_list)"
   ]
  },
  {
   "cell_type": "code",
   "execution_count": 44,
   "metadata": {},
   "outputs": [
    {
     "name": "stdout",
     "output_type": "stream",
     "text": [
      "[ 4.98825521 29.67987527 92.65908015  8.27756078 44.76510038  2.51769725]\n"
     ]
    }
   ],
   "source": [
    "print(final_theta)\n"
   ]
  }
 ],
 "metadata": {
  "interpreter": {
   "hash": "d0cf55cc18a585a2363ade3fc1fe5066f44ba8148e840ca882f0588a70c2ea9c"
  },
  "kernelspec": {
   "display_name": "Python 3.8.0 64-bit",
   "language": "python",
   "name": "python3"
  },
  "language_info": {
   "codemirror_mode": {
    "name": "ipython",
    "version": 3
   },
   "file_extension": ".py",
   "mimetype": "text/x-python",
   "name": "python",
   "nbconvert_exporter": "python",
   "pygments_lexer": "ipython3",
   "version": "3.8.0"
  },
  "orig_nbformat": 4
 },
 "nbformat": 4,
 "nbformat_minor": 2
}
